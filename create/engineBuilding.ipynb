{
 "cells": [
  {
   "cell_type": "code",
   "execution_count": 1,
   "id": "8dfbca6d-a212-4b76-afc7-7ffb27b5d3b1",
   "metadata": {},
   "outputs": [],
   "source": [
    "import numpy as np\n",
    "import pandas as pd\n",
    "from sklearn.feature_extraction.text import TfidfVectorizer\n",
    "from sklearn.metrics.pairwise import cosine_similarity\n",
    "from tqdm import tqdm\n",
    "import heapq"
   ]
  },
  {
   "cell_type": "code",
   "execution_count": 3,
   "id": "dcf2c166-450a-4bbc-bfca-318e877a1ead",
   "metadata": {},
   "outputs": [],
   "source": [
    "# Sample Data\n",
    "df = pd.read_csv('usage.csv')  # Load your dataframe here with a 'plot' or 'tag' column"
   ]
  },
  {
   "cell_type": "code",
   "execution_count": 7,
   "id": "52065671-8938-4517-80fb-d4320f187b3b",
   "metadata": {},
   "outputs": [
    {
     "data": {
      "text/plain": [
       "'the era of the new gener is coming. while the internet, artifici intellig and other high technolog are appli in all aspect of life, crime technolog and crimin investig are also upgrad day by day. documentari tamarasaviano'"
      ]
     },
     "execution_count": 7,
     "metadata": {},
     "output_type": "execute_result"
    }
   ],
   "source": [
    "df['tag'][17]"
   ]
  },
  {
   "cell_type": "code",
   "execution_count": 9,
   "id": "57d15cfa-12f0-4c39-9a58-09a1081c6983",
   "metadata": {},
   "outputs": [],
   "source": [
    "# Step 1: Vectorize the 'tag' column using TF-IDF (producing a sparse matrix)\n",
    "tfidf = TfidfVectorizer()\n",
    "tfidf_matrix = tfidf.fit_transform(df['tag'])  # Adjust the column name accordingly"
   ]
  },
  {
   "cell_type": "markdown",
   "id": "77df7690",
   "metadata": {},
   "source": []
  },
  {
   "cell_type": "code",
   "execution_count": 11,
   "id": "0402387b-39f0-43d3-8e03-b2a4f9424f25",
   "metadata": {},
   "outputs": [],
   "source": [
    "\n",
    "# Step 2: Function to find top N similar movies for each movie\n",
    "def get_top_n_similar(movie_idx, similarity_scores, N=100):\n",
    "    \"\"\" Get the top N similar movies for a given movie index, sorted by similarity. \"\"\"\n",
    "    # Find top N movie indices using a heap (efficient for large N)\n",
    "    top_n_indices = heapq.nlargest(N, range(len(similarity_scores)), similarity_scores.take)\n",
    "    # Include the movie itself in the top N\n",
    "    return top_n_indices[:N]"
   ]
  },
  {
   "cell_type": "code",
   "execution_count": null,
   "id": "7c05dec6",
   "metadata": {},
   "outputs": [],
   "source": []
  },
  {
   "cell_type": "code",
   "execution_count": 13,
   "id": "b5252c3b-db12-486a-821f-9f665ec33206",
   "metadata": {},
   "outputs": [],
   "source": [
    "# Step 3: Initialize a list to hold the results (just the top N similar movies)\n",
    "top_n_similarities = []"
   ]
  },
  {
   "cell_type": "code",
   "execution_count": 15,
   "id": "4abb0f88-c1ac-46a5-84e2-6d38d7f507dd",
   "metadata": {},
   "outputs": [
    {
     "name": "stderr",
     "output_type": "stream",
     "text": [
      "100%|███████████████████████████████████████████████████████████████████████████████████████| 56249/56249 [1:50:52<00:00,  8.46it/s]\n"
     ]
    }
   ],
   "source": [
    "# Step 4: Process in chunks to avoid memory overload\n",
    "num_movies = tfidf_matrix.shape[0]\n",
    "\n",
    "# Progress bar\n",
    "with tqdm(total=num_movies) as pbar:\n",
    "    for i in range(num_movies):\n",
    "        # Compute similarity between movie i and all other movies in chunks\n",
    "        movie_vector = tfidf_matrix[i]  # Get the vector for movie i\n",
    "        similarities = cosine_similarity(movie_vector, tfidf_matrix).flatten()  # Cosine similarities with all movies\n",
    "        \n",
    "        # Get top 100 most similar movies including the movie itself\n",
    "        top_similar_movies = get_top_n_similar(i, similarities, N=100)\n",
    "        \n",
    "        # Append the list of top similar movie indices (including movie_idx itself)\n",
    "        top_n_similarities.append(top_similar_movies)\n",
    "        \n",
    "        # Update progress\n",
    "        pbar.update(1)"
   ]
  },
  {
   "cell_type": "code",
   "execution_count": 17,
   "id": "b189e6a5-cddf-404e-ac29-5552b811ae69",
   "metadata": {},
   "outputs": [],
   "source": [
    "# Step 5: Convert results to a DataFrame for storage\n",
    "similarity_df = pd.DataFrame(top_n_similarities)"
   ]
  },
  {
   "cell_type": "code",
   "execution_count": 19,
   "id": "deb0dd08-089d-4dfd-857b-991d7d460695",
   "metadata": {},
   "outputs": [
    {
     "data": {
      "text/html": [
       "<div>\n",
       "<style scoped>\n",
       "    .dataframe tbody tr th:only-of-type {\n",
       "        vertical-align: middle;\n",
       "    }\n",
       "\n",
       "    .dataframe tbody tr th {\n",
       "        vertical-align: top;\n",
       "    }\n",
       "\n",
       "    .dataframe thead th {\n",
       "        text-align: right;\n",
       "    }\n",
       "</style>\n",
       "<table border=\"1\" class=\"dataframe\">\n",
       "  <thead>\n",
       "    <tr style=\"text-align: right;\">\n",
       "      <th></th>\n",
       "      <th>0</th>\n",
       "      <th>1</th>\n",
       "      <th>2</th>\n",
       "      <th>3</th>\n",
       "      <th>4</th>\n",
       "      <th>5</th>\n",
       "      <th>6</th>\n",
       "      <th>7</th>\n",
       "      <th>8</th>\n",
       "      <th>9</th>\n",
       "      <th>...</th>\n",
       "      <th>90</th>\n",
       "      <th>91</th>\n",
       "      <th>92</th>\n",
       "      <th>93</th>\n",
       "      <th>94</th>\n",
       "      <th>95</th>\n",
       "      <th>96</th>\n",
       "      <th>97</th>\n",
       "      <th>98</th>\n",
       "      <th>99</th>\n",
       "    </tr>\n",
       "  </thead>\n",
       "  <tbody>\n",
       "    <tr>\n",
       "      <th>0</th>\n",
       "      <td>0</td>\n",
       "      <td>582</td>\n",
       "      <td>7878</td>\n",
       "      <td>15355</td>\n",
       "      <td>6379</td>\n",
       "      <td>50669</td>\n",
       "      <td>6300</td>\n",
       "      <td>55150</td>\n",
       "      <td>46339</td>\n",
       "      <td>13436</td>\n",
       "      <td>...</td>\n",
       "      <td>49706</td>\n",
       "      <td>27289</td>\n",
       "      <td>40912</td>\n",
       "      <td>11059</td>\n",
       "      <td>20006</td>\n",
       "      <td>15502</td>\n",
       "      <td>7711</td>\n",
       "      <td>45143</td>\n",
       "      <td>34132</td>\n",
       "      <td>37546</td>\n",
       "    </tr>\n",
       "    <tr>\n",
       "      <th>1</th>\n",
       "      <td>1</td>\n",
       "      <td>53603</td>\n",
       "      <td>388</td>\n",
       "      <td>2944</td>\n",
       "      <td>3146</td>\n",
       "      <td>12188</td>\n",
       "      <td>12229</td>\n",
       "      <td>5833</td>\n",
       "      <td>5257</td>\n",
       "      <td>9822</td>\n",
       "      <td>...</td>\n",
       "      <td>51305</td>\n",
       "      <td>55037</td>\n",
       "      <td>7206</td>\n",
       "      <td>7543</td>\n",
       "      <td>14709</td>\n",
       "      <td>4243</td>\n",
       "      <td>12977</td>\n",
       "      <td>9578</td>\n",
       "      <td>7866</td>\n",
       "      <td>14557</td>\n",
       "    </tr>\n",
       "    <tr>\n",
       "      <th>2</th>\n",
       "      <td>2</td>\n",
       "      <td>12926</td>\n",
       "      <td>13517</td>\n",
       "      <td>16436</td>\n",
       "      <td>2497</td>\n",
       "      <td>2860</td>\n",
       "      <td>6282</td>\n",
       "      <td>13953</td>\n",
       "      <td>966</td>\n",
       "      <td>51697</td>\n",
       "      <td>...</td>\n",
       "      <td>898</td>\n",
       "      <td>18332</td>\n",
       "      <td>434</td>\n",
       "      <td>15869</td>\n",
       "      <td>14699</td>\n",
       "      <td>645</td>\n",
       "      <td>2018</td>\n",
       "      <td>16718</td>\n",
       "      <td>37283</td>\n",
       "      <td>2974</td>\n",
       "    </tr>\n",
       "    <tr>\n",
       "      <th>3</th>\n",
       "      <td>3</td>\n",
       "      <td>43635</td>\n",
       "      <td>3117</td>\n",
       "      <td>4348</td>\n",
       "      <td>5017</td>\n",
       "      <td>7388</td>\n",
       "      <td>8115</td>\n",
       "      <td>8302</td>\n",
       "      <td>8902</td>\n",
       "      <td>9044</td>\n",
       "      <td>...</td>\n",
       "      <td>16173</td>\n",
       "      <td>13639</td>\n",
       "      <td>10294</td>\n",
       "      <td>554</td>\n",
       "      <td>22736</td>\n",
       "      <td>6689</td>\n",
       "      <td>39539</td>\n",
       "      <td>11784</td>\n",
       "      <td>17520</td>\n",
       "      <td>33939</td>\n",
       "    </tr>\n",
       "    <tr>\n",
       "      <th>4</th>\n",
       "      <td>4</td>\n",
       "      <td>6768</td>\n",
       "      <td>1293</td>\n",
       "      <td>43627</td>\n",
       "      <td>305</td>\n",
       "      <td>30814</td>\n",
       "      <td>12235</td>\n",
       "      <td>34714</td>\n",
       "      <td>289</td>\n",
       "      <td>284</td>\n",
       "      <td>...</td>\n",
       "      <td>6997</td>\n",
       "      <td>48665</td>\n",
       "      <td>37814</td>\n",
       "      <td>39765</td>\n",
       "      <td>34592</td>\n",
       "      <td>42254</td>\n",
       "      <td>39386</td>\n",
       "      <td>53678</td>\n",
       "      <td>24808</td>\n",
       "      <td>29590</td>\n",
       "    </tr>\n",
       "  </tbody>\n",
       "</table>\n",
       "<p>5 rows × 100 columns</p>\n",
       "</div>"
      ],
      "text/plain": [
       "   0      1      2      3     4      5      6      7      8      9   ...  \\\n",
       "0   0    582   7878  15355  6379  50669   6300  55150  46339  13436  ...   \n",
       "1   1  53603    388   2944  3146  12188  12229   5833   5257   9822  ...   \n",
       "2   2  12926  13517  16436  2497   2860   6282  13953    966  51697  ...   \n",
       "3   3  43635   3117   4348  5017   7388   8115   8302   8902   9044  ...   \n",
       "4   4   6768   1293  43627   305  30814  12235  34714    289    284  ...   \n",
       "\n",
       "      90     91     92     93     94     95     96     97     98     99  \n",
       "0  49706  27289  40912  11059  20006  15502   7711  45143  34132  37546  \n",
       "1  51305  55037   7206   7543  14709   4243  12977   9578   7866  14557  \n",
       "2    898  18332    434  15869  14699    645   2018  16718  37283   2974  \n",
       "3  16173  13639  10294    554  22736   6689  39539  11784  17520  33939  \n",
       "4   6997  48665  37814  39765  34592  42254  39386  53678  24808  29590  \n",
       "\n",
       "[5 rows x 100 columns]"
      ]
     },
     "execution_count": 19,
     "metadata": {},
     "output_type": "execute_result"
    }
   ],
   "source": [
    "similarity_df.head()"
   ]
  },
  {
   "cell_type": "code",
   "execution_count": null,
   "id": "bb11c31a-1c22-4191-8090-635548184a39",
   "metadata": {},
   "outputs": [],
   "source": [
    "movies=pd.read_csv('final_data.csv')"
   ]
  },
  {
   "cell_type": "code",
   "execution_count": 29,
   "id": "5fe4d611-e4ed-48f0-b502-5b90c8dc9b65",
   "metadata": {},
   "outputs": [
    {
     "data": {
      "text/html": [
       "<div>\n",
       "<style scoped>\n",
       "    .dataframe tbody tr th:only-of-type {\n",
       "        vertical-align: middle;\n",
       "    }\n",
       "\n",
       "    .dataframe tbody tr th {\n",
       "        vertical-align: top;\n",
       "    }\n",
       "\n",
       "    .dataframe thead th {\n",
       "        text-align: right;\n",
       "    }\n",
       "</style>\n",
       "<table border=\"1\" class=\"dataframe\">\n",
       "  <thead>\n",
       "    <tr style=\"text-align: right;\">\n",
       "      <th></th>\n",
       "      <th>tconst</th>\n",
       "      <th>originalTitle</th>\n",
       "      <th>year</th>\n",
       "      <th>genres</th>\n",
       "      <th>Rating</th>\n",
       "      <th>director</th>\n",
       "      <th>actors</th>\n",
       "      <th>description</th>\n",
       "    </tr>\n",
       "  </thead>\n",
       "  <tbody>\n",
       "    <tr>\n",
       "      <th>0</th>\n",
       "      <td>tt11545370</td>\n",
       "      <td>Mission Ulja Funk</td>\n",
       "      <td>2021.0</td>\n",
       "      <td>Adventure,Family</td>\n",
       "      <td>6.9</td>\n",
       "      <td>Barbara Kronenberg</td>\n",
       "      <td>Jonas Oeßel, Luc Feit, Ivan Shvedoff, Peter Tr...</td>\n",
       "      <td>Plot not available</td>\n",
       "    </tr>\n",
       "    <tr>\n",
       "      <th>1</th>\n",
       "      <td>tt11547828</td>\n",
       "      <td>Echoes of Violence</td>\n",
       "      <td>2021.0</td>\n",
       "      <td>Crime,Drama,Thriller</td>\n",
       "      <td>5.2</td>\n",
       "      <td>Nicholas Woods</td>\n",
       "      <td>Heston Horwin, Chase Cargill, Taylor Flowers, ...</td>\n",
       "      <td>A man with a fragile state of mind will battle...</td>\n",
       "    </tr>\n",
       "    <tr>\n",
       "      <th>2</th>\n",
       "      <td>tt11547982</td>\n",
       "      <td>The 2:11 Home</td>\n",
       "      <td>2021.0</td>\n",
       "      <td>Family</td>\n",
       "      <td>5.5</td>\n",
       "      <td>Jim Huggins</td>\n",
       "      <td>Geno Romo, Edward Stiner, Nick Dent, Burke Sag...</td>\n",
       "      <td>12 year old astronomy geek Uja, armed with a s...</td>\n",
       "    </tr>\n",
       "    <tr>\n",
       "      <th>3</th>\n",
       "      <td>tt11548822</td>\n",
       "      <td>Cow</td>\n",
       "      <td>2021.0</td>\n",
       "      <td>Documentary</td>\n",
       "      <td>7.1</td>\n",
       "      <td>Andrea Arnold</td>\n",
       "      <td>NaN</td>\n",
       "      <td>An honest policeman's quest to nab a dreaded c...</td>\n",
       "    </tr>\n",
       "    <tr>\n",
       "      <th>4</th>\n",
       "      <td>tt11552344</td>\n",
       "      <td>Murder at Yellowstone City</td>\n",
       "      <td>2022.0</td>\n",
       "      <td>Crime,Drama,Mystery</td>\n",
       "      <td>5.3</td>\n",
       "      <td>Richard Gray</td>\n",
       "      <td>Isaiah Mustafa, Zach McGowan, Thomas Jane, Ron...</td>\n",
       "      <td>The simple question: \"How does a woman get pre...</td>\n",
       "    </tr>\n",
       "  </tbody>\n",
       "</table>\n",
       "</div>"
      ],
      "text/plain": [
       "       tconst               originalTitle    year                genres  \\\n",
       "0  tt11545370           Mission Ulja Funk  2021.0      Adventure,Family   \n",
       "1  tt11547828          Echoes of Violence  2021.0  Crime,Drama,Thriller   \n",
       "2  tt11547982               The 2:11 Home  2021.0                Family   \n",
       "3  tt11548822                         Cow  2021.0           Documentary   \n",
       "4  tt11552344  Murder at Yellowstone City  2022.0   Crime,Drama,Mystery   \n",
       "\n",
       "   Rating            director  \\\n",
       "0     6.9  Barbara Kronenberg   \n",
       "1     5.2      Nicholas Woods   \n",
       "2     5.5         Jim Huggins   \n",
       "3     7.1       Andrea Arnold   \n",
       "4     5.3        Richard Gray   \n",
       "\n",
       "                                              actors  \\\n",
       "0  Jonas Oeßel, Luc Feit, Ivan Shvedoff, Peter Tr...   \n",
       "1  Heston Horwin, Chase Cargill, Taylor Flowers, ...   \n",
       "2  Geno Romo, Edward Stiner, Nick Dent, Burke Sag...   \n",
       "3                                                NaN   \n",
       "4  Isaiah Mustafa, Zach McGowan, Thomas Jane, Ron...   \n",
       "\n",
       "                                         description  \n",
       "0                                 Plot not available  \n",
       "1  A man with a fragile state of mind will battle...  \n",
       "2  12 year old astronomy geek Uja, armed with a s...  \n",
       "3  An honest policeman's quest to nab a dreaded c...  \n",
       "4  The simple question: \"How does a woman get pre...  "
      ]
     },
     "execution_count": 29,
     "metadata": {},
     "output_type": "execute_result"
    }
   ],
   "source": [
    "movies.head()"
   ]
  },
  {
   "cell_type": "code",
   "execution_count": 59,
   "id": "315ad9cd-72a9-4d99-94fd-ff97aa52eab6",
   "metadata": {},
   "outputs": [
    {
     "data": {
      "text/plain": [
       "44058"
      ]
     },
     "execution_count": 59,
     "metadata": {},
     "output_type": "execute_result"
    }
   ],
   "source": [
    " movie_index=movies[movies['originalTitle']=='Khaleja'].index[0]\n",
    "movie_index"
   ]
  },
  {
   "cell_type": "code",
   "execution_count": 45,
   "id": "263e7df3-b3cc-4f6a-beaa-1522b9f9d633",
   "metadata": {},
   "outputs": [],
   "source": [
    "l=similarity_df.iloc[44058]"
   ]
  },
  {
   "cell_type": "code",
   "execution_count": 61,
   "id": "372b8e3c-c3d8-466f-a552-30fba4ac3c15",
   "metadata": {},
   "outputs": [
    {
     "data": {
      "text/plain": [
       "pandas.core.series.Series"
      ]
     },
     "execution_count": 61,
     "metadata": {},
     "output_type": "execute_result"
    }
   ],
   "source": [
    "type(l)"
   ]
  },
  {
   "cell_type": "code",
   "execution_count": 47,
   "id": "d4cc56c9-95f2-4e39-b487-8465daf2b668",
   "metadata": {},
   "outputs": [],
   "source": [
    "d=list(l)"
   ]
  },
  {
   "cell_type": "code",
   "execution_count": 53,
   "id": "df7394ca-6da9-4ca2-a6f6-cac72c6fc7cb",
   "metadata": {},
   "outputs": [
    {
     "name": "stdout",
     "output_type": "stream",
     "text": [
      "Khaleja\n",
      "Jalsa\n",
      "Athadu\n",
      "Nuvve.. Nuvve...\n",
      "Ready\n",
      "Chirutha\n",
      "Bodyguard\n",
      "Jai Chiranjeeva\n",
      "King\n",
      "Kantri\n"
     ]
    }
   ],
   "source": [
    "for i in d[0:10]:\n",
    "    print(movies.iloc[i].originalTitle)"
   ]
  },
  {
   "cell_type": "code",
   "execution_count": 55,
   "id": "20126cf5-a10b-4420-b2c0-9bd7d8a78221",
   "metadata": {},
   "outputs": [
    {
     "name": "stdout",
     "output_type": "stream",
     "text": [
      "Top 100 similar movies for each movie have been saved to 'top_100_similar_movies.parquet'.\n"
     ]
    }
   ],
   "source": [
    "# Step 6: Save the DataFrame in a compact format (like Parquet)\n",
    "similarity_df.to_csv('top_100_similar_movies.csv')\n",
    "\n",
    "print(\"Top 100 similar movies for each movie have been saved to 'top_100_similar_movies.parquet'.\")"
   ]
  },
  {
   "cell_type": "code",
   "execution_count": 63,
   "id": "eb021159-246f-4d37-a7b8-b92fa7d3c796",
   "metadata": {},
   "outputs": [],
   "source": [
    "def top_movies(movie):\n",
    "    movie_index=movies[movies['originalTitle']==movie].index[0]\n",
    "    l=similarity_df.iloc[movie_index]\n",
    "    d=list(l)\n",
    "    for i in d[0:10]:\n",
    "        print(movies.iloc[i].originalTitle)"
   ]
  },
  {
   "cell_type": "code",
   "execution_count": 99,
   "id": "96551a42-4d89-465f-8381-9041c791a119",
   "metadata": {},
   "outputs": [
    {
     "name": "stdout",
     "output_type": "stream",
     "text": [
      "Ala Modalaindi\n",
      "Anthaka Mundu Aa Tarvatha\n",
      "Jabardasth\n",
      "Alludu Diddina Kapuram\n",
      "Kalyana Vaibhogame\n",
      "Awe!\n",
      "Oh Baby...\n",
      "The land of Skulls\n",
      "Halfway to Amarillo\n",
      "Feldpost\n"
     ]
    }
   ],
   "source": [
    "top_movies(\"Saripodhaa Sanivaaram\")"
   ]
  },
  {
   "cell_type": "code",
   "execution_count": null,
   "id": "e531dee5-bfea-4a4b-94bd-bfa1d7fe1128",
   "metadata": {},
   "outputs": [],
   "source": []
  }
 ],
 "metadata": {
  "kernelspec": {
   "display_name": "Python 3 (ipykernel)",
   "language": "python",
   "name": "python3"
  },
  "language_info": {
   "codemirror_mode": {
    "name": "ipython",
    "version": 3
   },
   "file_extension": ".py",
   "mimetype": "text/x-python",
   "name": "python",
   "nbconvert_exporter": "python",
   "pygments_lexer": "ipython3",
   "version": "3.12.4"
  }
 },
 "nbformat": 4,
 "nbformat_minor": 5
}
