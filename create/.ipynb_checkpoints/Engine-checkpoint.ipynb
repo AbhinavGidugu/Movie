{
 "cells": [
  {
   "cell_type": "code",
   "execution_count": 1,
   "id": "cc0e6f2a-b57a-40ac-a8d2-8743b6ec5ff3",
   "metadata": {},
   "outputs": [],
   "source": [
    "import pandas as pd\n",
    "import numpy as np\n"
   ]
  },
  {
   "cell_type": "code",
   "execution_count": 2,
   "id": "e0ba06fa-0e50-4230-b6e5-4ba6a8ecfc9c",
   "metadata": {},
   "outputs": [],
   "source": [
    "imdb=pd.read_csv('final_data.csv')"
   ]
  },
  {
   "cell_type": "code",
   "execution_count": 3,
   "id": "a8f5e029-c527-4dca-b029-7eb4ba1a31dd",
   "metadata": {},
   "outputs": [
    {
     "data": {
      "text/html": [
       "<div>\n",
       "<style scoped>\n",
       "    .dataframe tbody tr th:only-of-type {\n",
       "        vertical-align: middle;\n",
       "    }\n",
       "\n",
       "    .dataframe tbody tr th {\n",
       "        vertical-align: top;\n",
       "    }\n",
       "\n",
       "    .dataframe thead th {\n",
       "        text-align: right;\n",
       "    }\n",
       "</style>\n",
       "<table border=\"1\" class=\"dataframe\">\n",
       "  <thead>\n",
       "    <tr style=\"text-align: right;\">\n",
       "      <th></th>\n",
       "      <th>tconst</th>\n",
       "      <th>originalTitle</th>\n",
       "      <th>year</th>\n",
       "      <th>genres</th>\n",
       "      <th>Rating</th>\n",
       "      <th>director</th>\n",
       "      <th>actors</th>\n",
       "      <th>description</th>\n",
       "    </tr>\n",
       "  </thead>\n",
       "  <tbody>\n",
       "    <tr>\n",
       "      <th>0</th>\n",
       "      <td>tt11545370</td>\n",
       "      <td>Mission Ulja Funk</td>\n",
       "      <td>2021.0</td>\n",
       "      <td>Adventure,Family</td>\n",
       "      <td>6.9</td>\n",
       "      <td>Barbara Kronenberg</td>\n",
       "      <td>Jonas Oeßel, Luc Feit, Ivan Shvedoff, Peter Tr...</td>\n",
       "      <td>Plot not available</td>\n",
       "    </tr>\n",
       "    <tr>\n",
       "      <th>1</th>\n",
       "      <td>tt11547828</td>\n",
       "      <td>Echoes of Violence</td>\n",
       "      <td>2021.0</td>\n",
       "      <td>Crime,Drama,Thriller</td>\n",
       "      <td>5.2</td>\n",
       "      <td>Nicholas Woods</td>\n",
       "      <td>Heston Horwin, Chase Cargill, Taylor Flowers, ...</td>\n",
       "      <td>A man with a fragile state of mind will battle...</td>\n",
       "    </tr>\n",
       "    <tr>\n",
       "      <th>2</th>\n",
       "      <td>tt11547982</td>\n",
       "      <td>The 2:11 Home</td>\n",
       "      <td>2021.0</td>\n",
       "      <td>Family</td>\n",
       "      <td>5.5</td>\n",
       "      <td>Jim Huggins</td>\n",
       "      <td>Geno Romo, Edward Stiner, Nick Dent, Burke Sag...</td>\n",
       "      <td>12 year old astronomy geek Uja, armed with a s...</td>\n",
       "    </tr>\n",
       "    <tr>\n",
       "      <th>3</th>\n",
       "      <td>tt11548822</td>\n",
       "      <td>Cow</td>\n",
       "      <td>2021.0</td>\n",
       "      <td>Documentary</td>\n",
       "      <td>7.1</td>\n",
       "      <td>Andrea Arnold</td>\n",
       "      <td>NaN</td>\n",
       "      <td>An honest policeman's quest to nab a dreaded c...</td>\n",
       "    </tr>\n",
       "    <tr>\n",
       "      <th>4</th>\n",
       "      <td>tt11552344</td>\n",
       "      <td>Murder at Yellowstone City</td>\n",
       "      <td>2022.0</td>\n",
       "      <td>Crime,Drama,Mystery</td>\n",
       "      <td>5.3</td>\n",
       "      <td>Richard Gray</td>\n",
       "      <td>Isaiah Mustafa, Zach McGowan, Thomas Jane, Ron...</td>\n",
       "      <td>The simple question: \"How does a woman get pre...</td>\n",
       "    </tr>\n",
       "  </tbody>\n",
       "</table>\n",
       "</div>"
      ],
      "text/plain": [
       "       tconst               originalTitle    year                genres  \\\n",
       "0  tt11545370           Mission Ulja Funk  2021.0      Adventure,Family   \n",
       "1  tt11547828          Echoes of Violence  2021.0  Crime,Drama,Thriller   \n",
       "2  tt11547982               The 2:11 Home  2021.0                Family   \n",
       "3  tt11548822                         Cow  2021.0           Documentary   \n",
       "4  tt11552344  Murder at Yellowstone City  2022.0   Crime,Drama,Mystery   \n",
       "\n",
       "   Rating            director  \\\n",
       "0     6.9  Barbara Kronenberg   \n",
       "1     5.2      Nicholas Woods   \n",
       "2     5.5         Jim Huggins   \n",
       "3     7.1       Andrea Arnold   \n",
       "4     5.3        Richard Gray   \n",
       "\n",
       "                                              actors  \\\n",
       "0  Jonas Oeßel, Luc Feit, Ivan Shvedoff, Peter Tr...   \n",
       "1  Heston Horwin, Chase Cargill, Taylor Flowers, ...   \n",
       "2  Geno Romo, Edward Stiner, Nick Dent, Burke Sag...   \n",
       "3                                                NaN   \n",
       "4  Isaiah Mustafa, Zach McGowan, Thomas Jane, Ron...   \n",
       "\n",
       "                                         description  \n",
       "0                                 Plot not available  \n",
       "1  A man with a fragile state of mind will battle...  \n",
       "2  12 year old astronomy geek Uja, armed with a s...  \n",
       "3  An honest policeman's quest to nab a dreaded c...  \n",
       "4  The simple question: \"How does a woman get pre...  "
      ]
     },
     "execution_count": 3,
     "metadata": {},
     "output_type": "execute_result"
    }
   ],
   "source": [
    "imdb.head()"
   ]
  },
  {
   "cell_type": "code",
   "execution_count": 4,
   "id": "c6ad2f8d-8017-4bac-9c2d-dd7bc95f2210",
   "metadata": {},
   "outputs": [],
   "source": [
    "data=imdb[['tconst','originalTitle','description','genres','actors','director']]"
   ]
  },
  {
   "cell_type": "code",
   "execution_count": 5,
   "id": "b28350b7-aa28-40c4-a028-1d517edccf97",
   "metadata": {},
   "outputs": [
    {
     "data": {
      "text/html": [
       "<div>\n",
       "<style scoped>\n",
       "    .dataframe tbody tr th:only-of-type {\n",
       "        vertical-align: middle;\n",
       "    }\n",
       "\n",
       "    .dataframe tbody tr th {\n",
       "        vertical-align: top;\n",
       "    }\n",
       "\n",
       "    .dataframe thead th {\n",
       "        text-align: right;\n",
       "    }\n",
       "</style>\n",
       "<table border=\"1\" class=\"dataframe\">\n",
       "  <thead>\n",
       "    <tr style=\"text-align: right;\">\n",
       "      <th></th>\n",
       "      <th>tconst</th>\n",
       "      <th>originalTitle</th>\n",
       "      <th>description</th>\n",
       "      <th>genres</th>\n",
       "      <th>actors</th>\n",
       "      <th>director</th>\n",
       "    </tr>\n",
       "  </thead>\n",
       "  <tbody>\n",
       "    <tr>\n",
       "      <th>0</th>\n",
       "      <td>tt11545370</td>\n",
       "      <td>Mission Ulja Funk</td>\n",
       "      <td>Plot not available</td>\n",
       "      <td>Adventure,Family</td>\n",
       "      <td>Jonas Oeßel, Luc Feit, Ivan Shvedoff, Peter Tr...</td>\n",
       "      <td>Barbara Kronenberg</td>\n",
       "    </tr>\n",
       "    <tr>\n",
       "      <th>1</th>\n",
       "      <td>tt11547828</td>\n",
       "      <td>Echoes of Violence</td>\n",
       "      <td>A man with a fragile state of mind will battle...</td>\n",
       "      <td>Crime,Drama,Thriller</td>\n",
       "      <td>Heston Horwin, Chase Cargill, Taylor Flowers, ...</td>\n",
       "      <td>Nicholas Woods</td>\n",
       "    </tr>\n",
       "    <tr>\n",
       "      <th>2</th>\n",
       "      <td>tt11547982</td>\n",
       "      <td>The 2:11 Home</td>\n",
       "      <td>12 year old astronomy geek Uja, armed with a s...</td>\n",
       "      <td>Family</td>\n",
       "      <td>Geno Romo, Edward Stiner, Nick Dent, Burke Sag...</td>\n",
       "      <td>Jim Huggins</td>\n",
       "    </tr>\n",
       "    <tr>\n",
       "      <th>3</th>\n",
       "      <td>tt11548822</td>\n",
       "      <td>Cow</td>\n",
       "      <td>An honest policeman's quest to nab a dreaded c...</td>\n",
       "      <td>Documentary</td>\n",
       "      <td>NaN</td>\n",
       "      <td>Andrea Arnold</td>\n",
       "    </tr>\n",
       "    <tr>\n",
       "      <th>4</th>\n",
       "      <td>tt11552344</td>\n",
       "      <td>Murder at Yellowstone City</td>\n",
       "      <td>The simple question: \"How does a woman get pre...</td>\n",
       "      <td>Crime,Drama,Mystery</td>\n",
       "      <td>Isaiah Mustafa, Zach McGowan, Thomas Jane, Ron...</td>\n",
       "      <td>Richard Gray</td>\n",
       "    </tr>\n",
       "  </tbody>\n",
       "</table>\n",
       "</div>"
      ],
      "text/plain": [
       "       tconst               originalTitle  \\\n",
       "0  tt11545370           Mission Ulja Funk   \n",
       "1  tt11547828          Echoes of Violence   \n",
       "2  tt11547982               The 2:11 Home   \n",
       "3  tt11548822                         Cow   \n",
       "4  tt11552344  Murder at Yellowstone City   \n",
       "\n",
       "                                         description                genres  \\\n",
       "0                                 Plot not available      Adventure,Family   \n",
       "1  A man with a fragile state of mind will battle...  Crime,Drama,Thriller   \n",
       "2  12 year old astronomy geek Uja, armed with a s...                Family   \n",
       "3  An honest policeman's quest to nab a dreaded c...           Documentary   \n",
       "4  The simple question: \"How does a woman get pre...   Crime,Drama,Mystery   \n",
       "\n",
       "                                              actors            director  \n",
       "0  Jonas Oeßel, Luc Feit, Ivan Shvedoff, Peter Tr...  Barbara Kronenberg  \n",
       "1  Heston Horwin, Chase Cargill, Taylor Flowers, ...      Nicholas Woods  \n",
       "2  Geno Romo, Edward Stiner, Nick Dent, Burke Sag...         Jim Huggins  \n",
       "3                                                NaN       Andrea Arnold  \n",
       "4  Isaiah Mustafa, Zach McGowan, Thomas Jane, Ron...        Richard Gray  "
      ]
     },
     "execution_count": 5,
     "metadata": {},
     "output_type": "execute_result"
    }
   ],
   "source": [
    "data.head()"
   ]
  },
  {
   "cell_type": "code",
   "execution_count": 6,
   "id": "51df559e-3a50-4680-ac02-7a824dde12af",
   "metadata": {},
   "outputs": [],
   "source": [
    "data.loc[:,'description']=data['description'].apply(lambda x: x.replace(\"Plot not available\",\"\")  if isinstance(x, str) else x )"
   ]
  },
  {
   "cell_type": "code",
   "execution_count": 7,
   "id": "8df9c9df-004b-42eb-bad5-edea9d4d6fc4",
   "metadata": {},
   "outputs": [
    {
     "data": {
      "text/html": [
       "<div>\n",
       "<style scoped>\n",
       "    .dataframe tbody tr th:only-of-type {\n",
       "        vertical-align: middle;\n",
       "    }\n",
       "\n",
       "    .dataframe tbody tr th {\n",
       "        vertical-align: top;\n",
       "    }\n",
       "\n",
       "    .dataframe thead th {\n",
       "        text-align: right;\n",
       "    }\n",
       "</style>\n",
       "<table border=\"1\" class=\"dataframe\">\n",
       "  <thead>\n",
       "    <tr style=\"text-align: right;\">\n",
       "      <th></th>\n",
       "      <th>tconst</th>\n",
       "      <th>originalTitle</th>\n",
       "      <th>description</th>\n",
       "      <th>genres</th>\n",
       "      <th>actors</th>\n",
       "      <th>director</th>\n",
       "    </tr>\n",
       "  </thead>\n",
       "  <tbody>\n",
       "    <tr>\n",
       "      <th>0</th>\n",
       "      <td>tt11545370</td>\n",
       "      <td>Mission Ulja Funk</td>\n",
       "      <td></td>\n",
       "      <td>Adventure,Family</td>\n",
       "      <td>Jonas Oeßel, Luc Feit, Ivan Shvedoff, Peter Tr...</td>\n",
       "      <td>Barbara Kronenberg</td>\n",
       "    </tr>\n",
       "    <tr>\n",
       "      <th>1</th>\n",
       "      <td>tt11547828</td>\n",
       "      <td>Echoes of Violence</td>\n",
       "      <td>A man with a fragile state of mind will battle...</td>\n",
       "      <td>Crime,Drama,Thriller</td>\n",
       "      <td>Heston Horwin, Chase Cargill, Taylor Flowers, ...</td>\n",
       "      <td>Nicholas Woods</td>\n",
       "    </tr>\n",
       "    <tr>\n",
       "      <th>2</th>\n",
       "      <td>tt11547982</td>\n",
       "      <td>The 2:11 Home</td>\n",
       "      <td>12 year old astronomy geek Uja, armed with a s...</td>\n",
       "      <td>Family</td>\n",
       "      <td>Geno Romo, Edward Stiner, Nick Dent, Burke Sag...</td>\n",
       "      <td>Jim Huggins</td>\n",
       "    </tr>\n",
       "    <tr>\n",
       "      <th>3</th>\n",
       "      <td>tt11548822</td>\n",
       "      <td>Cow</td>\n",
       "      <td>An honest policeman's quest to nab a dreaded c...</td>\n",
       "      <td>Documentary</td>\n",
       "      <td>NaN</td>\n",
       "      <td>Andrea Arnold</td>\n",
       "    </tr>\n",
       "    <tr>\n",
       "      <th>4</th>\n",
       "      <td>tt11552344</td>\n",
       "      <td>Murder at Yellowstone City</td>\n",
       "      <td>The simple question: \"How does a woman get pre...</td>\n",
       "      <td>Crime,Drama,Mystery</td>\n",
       "      <td>Isaiah Mustafa, Zach McGowan, Thomas Jane, Ron...</td>\n",
       "      <td>Richard Gray</td>\n",
       "    </tr>\n",
       "  </tbody>\n",
       "</table>\n",
       "</div>"
      ],
      "text/plain": [
       "       tconst               originalTitle  \\\n",
       "0  tt11545370           Mission Ulja Funk   \n",
       "1  tt11547828          Echoes of Violence   \n",
       "2  tt11547982               The 2:11 Home   \n",
       "3  tt11548822                         Cow   \n",
       "4  tt11552344  Murder at Yellowstone City   \n",
       "\n",
       "                                         description                genres  \\\n",
       "0                                                         Adventure,Family   \n",
       "1  A man with a fragile state of mind will battle...  Crime,Drama,Thriller   \n",
       "2  12 year old astronomy geek Uja, armed with a s...                Family   \n",
       "3  An honest policeman's quest to nab a dreaded c...           Documentary   \n",
       "4  The simple question: \"How does a woman get pre...   Crime,Drama,Mystery   \n",
       "\n",
       "                                              actors            director  \n",
       "0  Jonas Oeßel, Luc Feit, Ivan Shvedoff, Peter Tr...  Barbara Kronenberg  \n",
       "1  Heston Horwin, Chase Cargill, Taylor Flowers, ...      Nicholas Woods  \n",
       "2  Geno Romo, Edward Stiner, Nick Dent, Burke Sag...         Jim Huggins  \n",
       "3                                                NaN       Andrea Arnold  \n",
       "4  Isaiah Mustafa, Zach McGowan, Thomas Jane, Ron...        Richard Gray  "
      ]
     },
     "execution_count": 7,
     "metadata": {},
     "output_type": "execute_result"
    }
   ],
   "source": [
    "data.head()"
   ]
  },
  {
   "cell_type": "code",
   "execution_count": 8,
   "id": "c4ffd726-4f17-4ce1-9950-45951b72b989",
   "metadata": {},
   "outputs": [
    {
     "data": {
      "text/plain": [
       "159"
      ]
     },
     "execution_count": 8,
     "metadata": {},
     "output_type": "execute_result"
    }
   ],
   "source": [
    "data['description'].isnull().sum()"
   ]
  },
  {
   "cell_type": "code",
   "execution_count": 9,
   "id": "c43e6fd3-8132-4a84-86ef-582274d8fc10",
   "metadata": {},
   "outputs": [],
   "source": [
    "data.loc[:,'description'] = data['description'].fillna('')\n"
   ]
  },
  {
   "cell_type": "code",
   "execution_count": 10,
   "id": "65d0f22b-78f8-484c-93a2-1224d29972b7",
   "metadata": {},
   "outputs": [
    {
     "data": {
      "text/plain": [
       "tconst              0\n",
       "originalTitle       0\n",
       "description         0\n",
       "genres              0\n",
       "actors           4024\n",
       "director          420\n",
       "dtype: int64"
      ]
     },
     "execution_count": 10,
     "metadata": {},
     "output_type": "execute_result"
    }
   ],
   "source": [
    "data.isnull().sum()"
   ]
  },
  {
   "cell_type": "code",
   "execution_count": 11,
   "id": "5ef4facd-dc04-4d85-ac23-8dd485a66900",
   "metadata": {},
   "outputs": [],
   "source": [
    "data.loc[:,'actors'] = data['actors'].fillna('')\n",
    "data.loc[:,'director'] = data['director'].fillna('')"
   ]
  },
  {
   "cell_type": "code",
   "execution_count": 12,
   "id": "d2329e02-b8ae-420b-ad1d-ed58b43dcc53",
   "metadata": {},
   "outputs": [
    {
     "data": {
      "text/plain": [
       "tconst           0\n",
       "originalTitle    0\n",
       "description      0\n",
       "genres           0\n",
       "actors           0\n",
       "director         0\n",
       "dtype: int64"
      ]
     },
     "execution_count": 12,
     "metadata": {},
     "output_type": "execute_result"
    }
   ],
   "source": [
    "data.isnull().sum()"
   ]
  },
  {
   "cell_type": "code",
   "execution_count": 13,
   "id": "9dc8fe0a-c0f4-4564-bbe9-ea46197a6da1",
   "metadata": {},
   "outputs": [],
   "source": [
    "data.loc[:,'description']=data.loc[:,'description'].apply(lambda x:x.split())"
   ]
  },
  {
   "cell_type": "code",
   "execution_count": 14,
   "id": "f666f79e-664b-427c-a929-027f5572f82f",
   "metadata": {},
   "outputs": [],
   "source": [
    "data.loc[:,'genres']=data.loc[:,'genres'].apply(lambda x:x.split(','))\n",
    "data.loc[:,'actors']=data.loc[:,'actors'].apply(lambda x:x.split(','))\n",
    "data.loc[:,'director']=data.loc[:,'director'].apply(lambda x:x.split(','))"
   ]
  },
  {
   "cell_type": "code",
   "execution_count": 15,
   "id": "9de8878c-2937-4b27-8a08-39d228b316be",
   "metadata": {},
   "outputs": [
    {
     "data": {
      "text/html": [
       "<div>\n",
       "<style scoped>\n",
       "    .dataframe tbody tr th:only-of-type {\n",
       "        vertical-align: middle;\n",
       "    }\n",
       "\n",
       "    .dataframe tbody tr th {\n",
       "        vertical-align: top;\n",
       "    }\n",
       "\n",
       "    .dataframe thead th {\n",
       "        text-align: right;\n",
       "    }\n",
       "</style>\n",
       "<table border=\"1\" class=\"dataframe\">\n",
       "  <thead>\n",
       "    <tr style=\"text-align: right;\">\n",
       "      <th></th>\n",
       "      <th>tconst</th>\n",
       "      <th>originalTitle</th>\n",
       "      <th>description</th>\n",
       "      <th>genres</th>\n",
       "      <th>actors</th>\n",
       "      <th>director</th>\n",
       "    </tr>\n",
       "  </thead>\n",
       "  <tbody>\n",
       "    <tr>\n",
       "      <th>0</th>\n",
       "      <td>tt11545370</td>\n",
       "      <td>Mission Ulja Funk</td>\n",
       "      <td>[]</td>\n",
       "      <td>[Adventure, Family]</td>\n",
       "      <td>[Jonas Oeßel,  Luc Feit,  Ivan Shvedoff,  Pete...</td>\n",
       "      <td>[Barbara Kronenberg]</td>\n",
       "    </tr>\n",
       "    <tr>\n",
       "      <th>1</th>\n",
       "      <td>tt11547828</td>\n",
       "      <td>Echoes of Violence</td>\n",
       "      <td>[A, man, with, a, fragile, state, of, mind, wi...</td>\n",
       "      <td>[Crime, Drama, Thriller]</td>\n",
       "      <td>[Heston Horwin,  Chase Cargill,  Taylor Flower...</td>\n",
       "      <td>[Nicholas Woods]</td>\n",
       "    </tr>\n",
       "    <tr>\n",
       "      <th>2</th>\n",
       "      <td>tt11547982</td>\n",
       "      <td>The 2:11 Home</td>\n",
       "      <td>[12, year, old, astronomy, geek, Uja,, armed, ...</td>\n",
       "      <td>[Family]</td>\n",
       "      <td>[Geno Romo,  Edward Stiner,  Nick Dent,  Burke...</td>\n",
       "      <td>[Jim Huggins]</td>\n",
       "    </tr>\n",
       "    <tr>\n",
       "      <th>3</th>\n",
       "      <td>tt11548822</td>\n",
       "      <td>Cow</td>\n",
       "      <td>[An, honest, policeman's, quest, to, nab, a, d...</td>\n",
       "      <td>[Documentary]</td>\n",
       "      <td>[]</td>\n",
       "      <td>[Andrea Arnold]</td>\n",
       "    </tr>\n",
       "    <tr>\n",
       "      <th>4</th>\n",
       "      <td>tt11552344</td>\n",
       "      <td>Murder at Yellowstone City</td>\n",
       "      <td>[The, simple, question:, \"How, does, a, woman,...</td>\n",
       "      <td>[Crime, Drama, Mystery]</td>\n",
       "      <td>[Isaiah Mustafa,  Zach McGowan,  Thomas Jane, ...</td>\n",
       "      <td>[Richard Gray]</td>\n",
       "    </tr>\n",
       "  </tbody>\n",
       "</table>\n",
       "</div>"
      ],
      "text/plain": [
       "       tconst               originalTitle  \\\n",
       "0  tt11545370           Mission Ulja Funk   \n",
       "1  tt11547828          Echoes of Violence   \n",
       "2  tt11547982               The 2:11 Home   \n",
       "3  tt11548822                         Cow   \n",
       "4  tt11552344  Murder at Yellowstone City   \n",
       "\n",
       "                                         description  \\\n",
       "0                                                 []   \n",
       "1  [A, man, with, a, fragile, state, of, mind, wi...   \n",
       "2  [12, year, old, astronomy, geek, Uja,, armed, ...   \n",
       "3  [An, honest, policeman's, quest, to, nab, a, d...   \n",
       "4  [The, simple, question:, \"How, does, a, woman,...   \n",
       "\n",
       "                     genres  \\\n",
       "0       [Adventure, Family]   \n",
       "1  [Crime, Drama, Thriller]   \n",
       "2                  [Family]   \n",
       "3             [Documentary]   \n",
       "4   [Crime, Drama, Mystery]   \n",
       "\n",
       "                                              actors              director  \n",
       "0  [Jonas Oeßel,  Luc Feit,  Ivan Shvedoff,  Pete...  [Barbara Kronenberg]  \n",
       "1  [Heston Horwin,  Chase Cargill,  Taylor Flower...      [Nicholas Woods]  \n",
       "2  [Geno Romo,  Edward Stiner,  Nick Dent,  Burke...         [Jim Huggins]  \n",
       "3                                                 []       [Andrea Arnold]  \n",
       "4  [Isaiah Mustafa,  Zach McGowan,  Thomas Jane, ...        [Richard Gray]  "
      ]
     },
     "execution_count": 15,
     "metadata": {},
     "output_type": "execute_result"
    }
   ],
   "source": [
    "data.head()"
   ]
  },
  {
   "cell_type": "code",
   "execution_count": 16,
   "id": "8bec88ba-4e2b-4a45-8bd7-5b1176c7f519",
   "metadata": {},
   "outputs": [
    {
     "name": "stderr",
     "output_type": "stream",
     "text": [
      "C:\\Users\\abhi9\\AppData\\Local\\Temp\\ipykernel_21708\\547659643.py:1: SettingWithCopyWarning: \n",
      "A value is trying to be set on a copy of a slice from a DataFrame.\n",
      "Try using .loc[row_indexer,col_indexer] = value instead\n",
      "\n",
      "See the caveats in the documentation: https://pandas.pydata.org/pandas-docs/stable/user_guide/indexing.html#returning-a-view-versus-a-copy\n",
      "  data['genres']=data['genres'].apply(lambda x:[i.replace(\" \",\"\") for i in x])\n",
      "C:\\Users\\abhi9\\AppData\\Local\\Temp\\ipykernel_21708\\547659643.py:2: SettingWithCopyWarning: \n",
      "A value is trying to be set on a copy of a slice from a DataFrame.\n",
      "Try using .loc[row_indexer,col_indexer] = value instead\n",
      "\n",
      "See the caveats in the documentation: https://pandas.pydata.org/pandas-docs/stable/user_guide/indexing.html#returning-a-view-versus-a-copy\n",
      "  data['actors']=data['actors'].apply(lambda x:[i.replace(\" \",\"\") for i in x])\n",
      "C:\\Users\\abhi9\\AppData\\Local\\Temp\\ipykernel_21708\\547659643.py:3: SettingWithCopyWarning: \n",
      "A value is trying to be set on a copy of a slice from a DataFrame.\n",
      "Try using .loc[row_indexer,col_indexer] = value instead\n",
      "\n",
      "See the caveats in the documentation: https://pandas.pydata.org/pandas-docs/stable/user_guide/indexing.html#returning-a-view-versus-a-copy\n",
      "  data['director']=data['director'].apply(lambda x:[i.replace(\" \",\"\") for i in x])\n"
     ]
    }
   ],
   "source": [
    "data['genres']=data['genres'].apply(lambda x:[i.replace(\" \",\"\") for i in x])\n",
    "data['actors']=data['actors'].apply(lambda x:[i.replace(\" \",\"\") for i in x])\n",
    "data['director']=data['director'].apply(lambda x:[i.replace(\" \",\"\") for i in x])\n"
   ]
  },
  {
   "cell_type": "code",
   "execution_count": 17,
   "id": "085e1071-416a-4087-b926-bbbf7c5dea99",
   "metadata": {},
   "outputs": [
    {
     "data": {
      "text/html": [
       "<div>\n",
       "<style scoped>\n",
       "    .dataframe tbody tr th:only-of-type {\n",
       "        vertical-align: middle;\n",
       "    }\n",
       "\n",
       "    .dataframe tbody tr th {\n",
       "        vertical-align: top;\n",
       "    }\n",
       "\n",
       "    .dataframe thead th {\n",
       "        text-align: right;\n",
       "    }\n",
       "</style>\n",
       "<table border=\"1\" class=\"dataframe\">\n",
       "  <thead>\n",
       "    <tr style=\"text-align: right;\">\n",
       "      <th></th>\n",
       "      <th>tconst</th>\n",
       "      <th>originalTitle</th>\n",
       "      <th>description</th>\n",
       "      <th>genres</th>\n",
       "      <th>actors</th>\n",
       "      <th>director</th>\n",
       "    </tr>\n",
       "  </thead>\n",
       "  <tbody>\n",
       "    <tr>\n",
       "      <th>0</th>\n",
       "      <td>tt11545370</td>\n",
       "      <td>Mission Ulja Funk</td>\n",
       "      <td>[]</td>\n",
       "      <td>[Adventure, Family]</td>\n",
       "      <td>[JonasOeßel, LucFeit, IvanShvedoff, PeterTrabner]</td>\n",
       "      <td>[BarbaraKronenberg]</td>\n",
       "    </tr>\n",
       "    <tr>\n",
       "      <th>1</th>\n",
       "      <td>tt11547828</td>\n",
       "      <td>Echoes of Violence</td>\n",
       "      <td>[A, man, with, a, fragile, state, of, mind, wi...</td>\n",
       "      <td>[Crime, Drama, Thriller]</td>\n",
       "      <td>[HestonHorwin, ChaseCargill, TaylorFlowers, Sa...</td>\n",
       "      <td>[NicholasWoods]</td>\n",
       "    </tr>\n",
       "    <tr>\n",
       "      <th>2</th>\n",
       "      <td>tt11547982</td>\n",
       "      <td>The 2:11 Home</td>\n",
       "      <td>[12, year, old, astronomy, geek, Uja,, armed, ...</td>\n",
       "      <td>[Family]</td>\n",
       "      <td>[GenoRomo, EdwardStiner, NickDent, BurkeSage, ...</td>\n",
       "      <td>[JimHuggins]</td>\n",
       "    </tr>\n",
       "    <tr>\n",
       "      <th>3</th>\n",
       "      <td>tt11548822</td>\n",
       "      <td>Cow</td>\n",
       "      <td>[An, honest, policeman's, quest, to, nab, a, d...</td>\n",
       "      <td>[Documentary]</td>\n",
       "      <td>[]</td>\n",
       "      <td>[AndreaArnold]</td>\n",
       "    </tr>\n",
       "    <tr>\n",
       "      <th>4</th>\n",
       "      <td>tt11552344</td>\n",
       "      <td>Murder at Yellowstone City</td>\n",
       "      <td>[The, simple, question:, \"How, does, a, woman,...</td>\n",
       "      <td>[Crime, Drama, Mystery]</td>\n",
       "      <td>[IsaiahMustafa, ZachMcGowan, ThomasJane, RonGa...</td>\n",
       "      <td>[RichardGray]</td>\n",
       "    </tr>\n",
       "  </tbody>\n",
       "</table>\n",
       "</div>"
      ],
      "text/plain": [
       "       tconst               originalTitle  \\\n",
       "0  tt11545370           Mission Ulja Funk   \n",
       "1  tt11547828          Echoes of Violence   \n",
       "2  tt11547982               The 2:11 Home   \n",
       "3  tt11548822                         Cow   \n",
       "4  tt11552344  Murder at Yellowstone City   \n",
       "\n",
       "                                         description  \\\n",
       "0                                                 []   \n",
       "1  [A, man, with, a, fragile, state, of, mind, wi...   \n",
       "2  [12, year, old, astronomy, geek, Uja,, armed, ...   \n",
       "3  [An, honest, policeman's, quest, to, nab, a, d...   \n",
       "4  [The, simple, question:, \"How, does, a, woman,...   \n",
       "\n",
       "                     genres  \\\n",
       "0       [Adventure, Family]   \n",
       "1  [Crime, Drama, Thriller]   \n",
       "2                  [Family]   \n",
       "3             [Documentary]   \n",
       "4   [Crime, Drama, Mystery]   \n",
       "\n",
       "                                              actors             director  \n",
       "0  [JonasOeßel, LucFeit, IvanShvedoff, PeterTrabner]  [BarbaraKronenberg]  \n",
       "1  [HestonHorwin, ChaseCargill, TaylorFlowers, Sa...      [NicholasWoods]  \n",
       "2  [GenoRomo, EdwardStiner, NickDent, BurkeSage, ...         [JimHuggins]  \n",
       "3                                                 []       [AndreaArnold]  \n",
       "4  [IsaiahMustafa, ZachMcGowan, ThomasJane, RonGa...        [RichardGray]  "
      ]
     },
     "execution_count": 17,
     "metadata": {},
     "output_type": "execute_result"
    }
   ],
   "source": [
    "data.head()"
   ]
  },
  {
   "cell_type": "code",
   "execution_count": 18,
   "id": "235e81f9-ef17-4daa-9553-0500574e2fd4",
   "metadata": {},
   "outputs": [
    {
     "name": "stderr",
     "output_type": "stream",
     "text": [
      "C:\\Users\\abhi9\\AppData\\Local\\Temp\\ipykernel_21708\\2419143934.py:1: SettingWithCopyWarning: \n",
      "A value is trying to be set on a copy of a slice from a DataFrame.\n",
      "Try using .loc[row_indexer,col_indexer] = value instead\n",
      "\n",
      "See the caveats in the documentation: https://pandas.pydata.org/pandas-docs/stable/user_guide/indexing.html#returning-a-view-versus-a-copy\n",
      "  data['tag']=data['description']+data['genres']+data['actors']+data['director']\n"
     ]
    }
   ],
   "source": [
    "data['tag']=data['description']+data['genres']+data['actors']+data['director']"
   ]
  },
  {
   "cell_type": "code",
   "execution_count": 19,
   "id": "af0a29ab-2113-4cd6-87e7-d446ea141f4a",
   "metadata": {},
   "outputs": [
    {
     "data": {
      "text/html": [
       "<div>\n",
       "<style scoped>\n",
       "    .dataframe tbody tr th:only-of-type {\n",
       "        vertical-align: middle;\n",
       "    }\n",
       "\n",
       "    .dataframe tbody tr th {\n",
       "        vertical-align: top;\n",
       "    }\n",
       "\n",
       "    .dataframe thead th {\n",
       "        text-align: right;\n",
       "    }\n",
       "</style>\n",
       "<table border=\"1\" class=\"dataframe\">\n",
       "  <thead>\n",
       "    <tr style=\"text-align: right;\">\n",
       "      <th></th>\n",
       "      <th>tconst</th>\n",
       "      <th>originalTitle</th>\n",
       "      <th>description</th>\n",
       "      <th>genres</th>\n",
       "      <th>actors</th>\n",
       "      <th>director</th>\n",
       "      <th>tag</th>\n",
       "    </tr>\n",
       "  </thead>\n",
       "  <tbody>\n",
       "    <tr>\n",
       "      <th>0</th>\n",
       "      <td>tt11545370</td>\n",
       "      <td>Mission Ulja Funk</td>\n",
       "      <td>[]</td>\n",
       "      <td>[Adventure, Family]</td>\n",
       "      <td>[JonasOeßel, LucFeit, IvanShvedoff, PeterTrabner]</td>\n",
       "      <td>[BarbaraKronenberg]</td>\n",
       "      <td>[Adventure, Family, JonasOeßel, LucFeit, IvanS...</td>\n",
       "    </tr>\n",
       "    <tr>\n",
       "      <th>1</th>\n",
       "      <td>tt11547828</td>\n",
       "      <td>Echoes of Violence</td>\n",
       "      <td>[A, man, with, a, fragile, state, of, mind, wi...</td>\n",
       "      <td>[Crime, Drama, Thriller]</td>\n",
       "      <td>[HestonHorwin, ChaseCargill, TaylorFlowers, Sa...</td>\n",
       "      <td>[NicholasWoods]</td>\n",
       "      <td>[A, man, with, a, fragile, state, of, mind, wi...</td>\n",
       "    </tr>\n",
       "    <tr>\n",
       "      <th>2</th>\n",
       "      <td>tt11547982</td>\n",
       "      <td>The 2:11 Home</td>\n",
       "      <td>[12, year, old, astronomy, geek, Uja,, armed, ...</td>\n",
       "      <td>[Family]</td>\n",
       "      <td>[GenoRomo, EdwardStiner, NickDent, BurkeSage, ...</td>\n",
       "      <td>[JimHuggins]</td>\n",
       "      <td>[12, year, old, astronomy, geek, Uja,, armed, ...</td>\n",
       "    </tr>\n",
       "    <tr>\n",
       "      <th>3</th>\n",
       "      <td>tt11548822</td>\n",
       "      <td>Cow</td>\n",
       "      <td>[An, honest, policeman's, quest, to, nab, a, d...</td>\n",
       "      <td>[Documentary]</td>\n",
       "      <td>[]</td>\n",
       "      <td>[AndreaArnold]</td>\n",
       "      <td>[An, honest, policeman's, quest, to, nab, a, d...</td>\n",
       "    </tr>\n",
       "    <tr>\n",
       "      <th>4</th>\n",
       "      <td>tt11552344</td>\n",
       "      <td>Murder at Yellowstone City</td>\n",
       "      <td>[The, simple, question:, \"How, does, a, woman,...</td>\n",
       "      <td>[Crime, Drama, Mystery]</td>\n",
       "      <td>[IsaiahMustafa, ZachMcGowan, ThomasJane, RonGa...</td>\n",
       "      <td>[RichardGray]</td>\n",
       "      <td>[The, simple, question:, \"How, does, a, woman,...</td>\n",
       "    </tr>\n",
       "  </tbody>\n",
       "</table>\n",
       "</div>"
      ],
      "text/plain": [
       "       tconst               originalTitle  \\\n",
       "0  tt11545370           Mission Ulja Funk   \n",
       "1  tt11547828          Echoes of Violence   \n",
       "2  tt11547982               The 2:11 Home   \n",
       "3  tt11548822                         Cow   \n",
       "4  tt11552344  Murder at Yellowstone City   \n",
       "\n",
       "                                         description  \\\n",
       "0                                                 []   \n",
       "1  [A, man, with, a, fragile, state, of, mind, wi...   \n",
       "2  [12, year, old, astronomy, geek, Uja,, armed, ...   \n",
       "3  [An, honest, policeman's, quest, to, nab, a, d...   \n",
       "4  [The, simple, question:, \"How, does, a, woman,...   \n",
       "\n",
       "                     genres  \\\n",
       "0       [Adventure, Family]   \n",
       "1  [Crime, Drama, Thriller]   \n",
       "2                  [Family]   \n",
       "3             [Documentary]   \n",
       "4   [Crime, Drama, Mystery]   \n",
       "\n",
       "                                              actors             director  \\\n",
       "0  [JonasOeßel, LucFeit, IvanShvedoff, PeterTrabner]  [BarbaraKronenberg]   \n",
       "1  [HestonHorwin, ChaseCargill, TaylorFlowers, Sa...      [NicholasWoods]   \n",
       "2  [GenoRomo, EdwardStiner, NickDent, BurkeSage, ...         [JimHuggins]   \n",
       "3                                                 []       [AndreaArnold]   \n",
       "4  [IsaiahMustafa, ZachMcGowan, ThomasJane, RonGa...        [RichardGray]   \n",
       "\n",
       "                                                 tag  \n",
       "0  [Adventure, Family, JonasOeßel, LucFeit, IvanS...  \n",
       "1  [A, man, with, a, fragile, state, of, mind, wi...  \n",
       "2  [12, year, old, astronomy, geek, Uja,, armed, ...  \n",
       "3  [An, honest, policeman's, quest, to, nab, a, d...  \n",
       "4  [The, simple, question:, \"How, does, a, woman,...  "
      ]
     },
     "execution_count": 19,
     "metadata": {},
     "output_type": "execute_result"
    }
   ],
   "source": [
    "data.head()"
   ]
  },
  {
   "cell_type": "code",
   "execution_count": 20,
   "id": "92597dc2-5b13-4ee1-a818-a8b129dcaced",
   "metadata": {},
   "outputs": [],
   "source": [
    "df=data[['tconst','originalTitle','tag']]"
   ]
  },
  {
   "cell_type": "code",
   "execution_count": 21,
   "id": "343d7a5d-dac6-4e37-9c22-bd904aba20f9",
   "metadata": {},
   "outputs": [
    {
     "data": {
      "text/html": [
       "<div>\n",
       "<style scoped>\n",
       "    .dataframe tbody tr th:only-of-type {\n",
       "        vertical-align: middle;\n",
       "    }\n",
       "\n",
       "    .dataframe tbody tr th {\n",
       "        vertical-align: top;\n",
       "    }\n",
       "\n",
       "    .dataframe thead th {\n",
       "        text-align: right;\n",
       "    }\n",
       "</style>\n",
       "<table border=\"1\" class=\"dataframe\">\n",
       "  <thead>\n",
       "    <tr style=\"text-align: right;\">\n",
       "      <th></th>\n",
       "      <th>tconst</th>\n",
       "      <th>originalTitle</th>\n",
       "      <th>tag</th>\n",
       "    </tr>\n",
       "  </thead>\n",
       "  <tbody>\n",
       "    <tr>\n",
       "      <th>0</th>\n",
       "      <td>tt11545370</td>\n",
       "      <td>Mission Ulja Funk</td>\n",
       "      <td>[Adventure, Family, JonasOeßel, LucFeit, IvanS...</td>\n",
       "    </tr>\n",
       "    <tr>\n",
       "      <th>1</th>\n",
       "      <td>tt11547828</td>\n",
       "      <td>Echoes of Violence</td>\n",
       "      <td>[A, man, with, a, fragile, state, of, mind, wi...</td>\n",
       "    </tr>\n",
       "    <tr>\n",
       "      <th>2</th>\n",
       "      <td>tt11547982</td>\n",
       "      <td>The 2:11 Home</td>\n",
       "      <td>[12, year, old, astronomy, geek, Uja,, armed, ...</td>\n",
       "    </tr>\n",
       "    <tr>\n",
       "      <th>3</th>\n",
       "      <td>tt11548822</td>\n",
       "      <td>Cow</td>\n",
       "      <td>[An, honest, policeman's, quest, to, nab, a, d...</td>\n",
       "    </tr>\n",
       "    <tr>\n",
       "      <th>4</th>\n",
       "      <td>tt11552344</td>\n",
       "      <td>Murder at Yellowstone City</td>\n",
       "      <td>[The, simple, question:, \"How, does, a, woman,...</td>\n",
       "    </tr>\n",
       "  </tbody>\n",
       "</table>\n",
       "</div>"
      ],
      "text/plain": [
       "       tconst               originalTitle  \\\n",
       "0  tt11545370           Mission Ulja Funk   \n",
       "1  tt11547828          Echoes of Violence   \n",
       "2  tt11547982               The 2:11 Home   \n",
       "3  tt11548822                         Cow   \n",
       "4  tt11552344  Murder at Yellowstone City   \n",
       "\n",
       "                                                 tag  \n",
       "0  [Adventure, Family, JonasOeßel, LucFeit, IvanS...  \n",
       "1  [A, man, with, a, fragile, state, of, mind, wi...  \n",
       "2  [12, year, old, astronomy, geek, Uja,, armed, ...  \n",
       "3  [An, honest, policeman's, quest, to, nab, a, d...  \n",
       "4  [The, simple, question:, \"How, does, a, woman,...  "
      ]
     },
     "execution_count": 21,
     "metadata": {},
     "output_type": "execute_result"
    }
   ],
   "source": [
    "df.head()"
   ]
  },
  {
   "cell_type": "code",
   "execution_count": 22,
   "id": "3e59e608-0c51-4560-85df-308b90fea6e9",
   "metadata": {},
   "outputs": [
    {
     "name": "stderr",
     "output_type": "stream",
     "text": [
      "C:\\Users\\abhi9\\AppData\\Local\\Temp\\ipykernel_21708\\2273421580.py:1: SettingWithCopyWarning: \n",
      "A value is trying to be set on a copy of a slice from a DataFrame.\n",
      "Try using .loc[row_indexer,col_indexer] = value instead\n",
      "\n",
      "See the caveats in the documentation: https://pandas.pydata.org/pandas-docs/stable/user_guide/indexing.html#returning-a-view-versus-a-copy\n",
      "  df['tag']=df['tag'].apply(lambda x:\" \".join(x))\n"
     ]
    }
   ],
   "source": [
    "df['tag']=df['tag'].apply(lambda x:\" \".join(x))"
   ]
  },
  {
   "cell_type": "code",
   "execution_count": 23,
   "id": "7c402311-cc8c-438b-a7e2-51f5784ce5be",
   "metadata": {},
   "outputs": [
    {
     "data": {
      "text/html": [
       "<div>\n",
       "<style scoped>\n",
       "    .dataframe tbody tr th:only-of-type {\n",
       "        vertical-align: middle;\n",
       "    }\n",
       "\n",
       "    .dataframe tbody tr th {\n",
       "        vertical-align: top;\n",
       "    }\n",
       "\n",
       "    .dataframe thead th {\n",
       "        text-align: right;\n",
       "    }\n",
       "</style>\n",
       "<table border=\"1\" class=\"dataframe\">\n",
       "  <thead>\n",
       "    <tr style=\"text-align: right;\">\n",
       "      <th></th>\n",
       "      <th>tconst</th>\n",
       "      <th>originalTitle</th>\n",
       "      <th>tag</th>\n",
       "    </tr>\n",
       "  </thead>\n",
       "  <tbody>\n",
       "    <tr>\n",
       "      <th>0</th>\n",
       "      <td>tt11545370</td>\n",
       "      <td>Mission Ulja Funk</td>\n",
       "      <td>Adventure Family JonasOeßel LucFeit IvanShvedo...</td>\n",
       "    </tr>\n",
       "    <tr>\n",
       "      <th>1</th>\n",
       "      <td>tt11547828</td>\n",
       "      <td>Echoes of Violence</td>\n",
       "      <td>A man with a fragile state of mind will battle...</td>\n",
       "    </tr>\n",
       "    <tr>\n",
       "      <th>2</th>\n",
       "      <td>tt11547982</td>\n",
       "      <td>The 2:11 Home</td>\n",
       "      <td>12 year old astronomy geek Uja, armed with a s...</td>\n",
       "    </tr>\n",
       "    <tr>\n",
       "      <th>3</th>\n",
       "      <td>tt11548822</td>\n",
       "      <td>Cow</td>\n",
       "      <td>An honest policeman's quest to nab a dreaded c...</td>\n",
       "    </tr>\n",
       "    <tr>\n",
       "      <th>4</th>\n",
       "      <td>tt11552344</td>\n",
       "      <td>Murder at Yellowstone City</td>\n",
       "      <td>The simple question: \"How does a woman get pre...</td>\n",
       "    </tr>\n",
       "  </tbody>\n",
       "</table>\n",
       "</div>"
      ],
      "text/plain": [
       "       tconst               originalTitle  \\\n",
       "0  tt11545370           Mission Ulja Funk   \n",
       "1  tt11547828          Echoes of Violence   \n",
       "2  tt11547982               The 2:11 Home   \n",
       "3  tt11548822                         Cow   \n",
       "4  tt11552344  Murder at Yellowstone City   \n",
       "\n",
       "                                                 tag  \n",
       "0  Adventure Family JonasOeßel LucFeit IvanShvedo...  \n",
       "1  A man with a fragile state of mind will battle...  \n",
       "2  12 year old astronomy geek Uja, armed with a s...  \n",
       "3  An honest policeman's quest to nab a dreaded c...  \n",
       "4  The simple question: \"How does a woman get pre...  "
      ]
     },
     "execution_count": 23,
     "metadata": {},
     "output_type": "execute_result"
    }
   ],
   "source": [
    "df.head()"
   ]
  },
  {
   "cell_type": "code",
   "execution_count": 24,
   "id": "9bf63ade-6a22-4e9e-833d-3c2dc040c858",
   "metadata": {},
   "outputs": [
    {
     "name": "stderr",
     "output_type": "stream",
     "text": [
      "C:\\Users\\abhi9\\AppData\\Local\\Temp\\ipykernel_21708\\1341333692.py:1: SettingWithCopyWarning: \n",
      "A value is trying to be set on a copy of a slice from a DataFrame.\n",
      "Try using .loc[row_indexer,col_indexer] = value instead\n",
      "\n",
      "See the caveats in the documentation: https://pandas.pydata.org/pandas-docs/stable/user_guide/indexing.html#returning-a-view-versus-a-copy\n",
      "  df['tag']=df['tag'].apply(lambda x:x.lower())\n"
     ]
    }
   ],
   "source": [
    "df['tag']=df['tag'].apply(lambda x:x.lower())"
   ]
  },
  {
   "cell_type": "code",
   "execution_count": 25,
   "id": "c638ab4c-f7a1-417a-91e8-051b5ee6a095",
   "metadata": {},
   "outputs": [
    {
     "data": {
      "text/html": [
       "<div>\n",
       "<style scoped>\n",
       "    .dataframe tbody tr th:only-of-type {\n",
       "        vertical-align: middle;\n",
       "    }\n",
       "\n",
       "    .dataframe tbody tr th {\n",
       "        vertical-align: top;\n",
       "    }\n",
       "\n",
       "    .dataframe thead th {\n",
       "        text-align: right;\n",
       "    }\n",
       "</style>\n",
       "<table border=\"1\" class=\"dataframe\">\n",
       "  <thead>\n",
       "    <tr style=\"text-align: right;\">\n",
       "      <th></th>\n",
       "      <th>tconst</th>\n",
       "      <th>originalTitle</th>\n",
       "      <th>tag</th>\n",
       "    </tr>\n",
       "  </thead>\n",
       "  <tbody>\n",
       "    <tr>\n",
       "      <th>0</th>\n",
       "      <td>tt11545370</td>\n",
       "      <td>Mission Ulja Funk</td>\n",
       "      <td>adventure family jonasoeßel lucfeit ivanshvedo...</td>\n",
       "    </tr>\n",
       "    <tr>\n",
       "      <th>1</th>\n",
       "      <td>tt11547828</td>\n",
       "      <td>Echoes of Violence</td>\n",
       "      <td>a man with a fragile state of mind will battle...</td>\n",
       "    </tr>\n",
       "    <tr>\n",
       "      <th>2</th>\n",
       "      <td>tt11547982</td>\n",
       "      <td>The 2:11 Home</td>\n",
       "      <td>12 year old astronomy geek uja, armed with a s...</td>\n",
       "    </tr>\n",
       "    <tr>\n",
       "      <th>3</th>\n",
       "      <td>tt11548822</td>\n",
       "      <td>Cow</td>\n",
       "      <td>an honest policeman's quest to nab a dreaded c...</td>\n",
       "    </tr>\n",
       "    <tr>\n",
       "      <th>4</th>\n",
       "      <td>tt11552344</td>\n",
       "      <td>Murder at Yellowstone City</td>\n",
       "      <td>the simple question: \"how does a woman get pre...</td>\n",
       "    </tr>\n",
       "  </tbody>\n",
       "</table>\n",
       "</div>"
      ],
      "text/plain": [
       "       tconst               originalTitle  \\\n",
       "0  tt11545370           Mission Ulja Funk   \n",
       "1  tt11547828          Echoes of Violence   \n",
       "2  tt11547982               The 2:11 Home   \n",
       "3  tt11548822                         Cow   \n",
       "4  tt11552344  Murder at Yellowstone City   \n",
       "\n",
       "                                                 tag  \n",
       "0  adventure family jonasoeßel lucfeit ivanshvedo...  \n",
       "1  a man with a fragile state of mind will battle...  \n",
       "2  12 year old astronomy geek uja, armed with a s...  \n",
       "3  an honest policeman's quest to nab a dreaded c...  \n",
       "4  the simple question: \"how does a woman get pre...  "
      ]
     },
     "execution_count": 25,
     "metadata": {},
     "output_type": "execute_result"
    }
   ],
   "source": [
    "df.head()"
   ]
  },
  {
   "cell_type": "code",
   "execution_count": 26,
   "id": "6a65735f-3350-4e4d-b80e-2d3b3d45940d",
   "metadata": {},
   "outputs": [
    {
     "data": {
      "text/plain": [
       "tconst                                                  tt11545370\n",
       "originalTitle                                    Mission Ulja Funk\n",
       "tag              adventure family jonasoeßel lucfeit ivanshvedo...\n",
       "Name: 0, dtype: object"
      ]
     },
     "execution_count": 26,
     "metadata": {},
     "output_type": "execute_result"
    }
   ],
   "source": [
    "df.iloc[0]"
   ]
  },
  {
   "cell_type": "code",
   "execution_count": 27,
   "id": "c4e7800b-7400-4563-be0b-d483c7cb157e",
   "metadata": {},
   "outputs": [],
   "source": [
    "from nltk.stem import PorterStemmer\n",
    "ps=PorterStemmer()"
   ]
  },
  {
   "cell_type": "code",
   "execution_count": 28,
   "id": "bf1783d6-6769-408b-893d-1a25a8eab01e",
   "metadata": {},
   "outputs": [],
   "source": [
    "def stemming(s):\n",
    "    l=[]\n",
    "    for i in s.split():\n",
    "        l.append(ps.stem(i))\n",
    "    return \" \".join(l)"
   ]
  },
  {
   "cell_type": "code",
   "execution_count": 29,
   "id": "d4e798f8-50c6-40f1-852e-032d9331d658",
   "metadata": {},
   "outputs": [
    {
     "name": "stderr",
     "output_type": "stream",
     "text": [
      "C:\\Users\\abhi9\\AppData\\Local\\Temp\\ipykernel_21708\\2267861769.py:1: SettingWithCopyWarning: \n",
      "A value is trying to be set on a copy of a slice from a DataFrame.\n",
      "Try using .loc[row_indexer,col_indexer] = value instead\n",
      "\n",
      "See the caveats in the documentation: https://pandas.pydata.org/pandas-docs/stable/user_guide/indexing.html#returning-a-view-versus-a-copy\n",
      "  df['tag']=df['tag'].apply(stemming)\n"
     ]
    }
   ],
   "source": [
    "df['tag']=df['tag'].apply(stemming)"
   ]
  },
  {
   "cell_type": "code",
   "execution_count": 30,
   "id": "ea5be475-d4aa-4d14-bab7-fe090813257d",
   "metadata": {},
   "outputs": [
    {
     "data": {
      "text/plain": [
       "'an immigr travel from sedona to lo angel to seek reveng against the immigr lawyer who ruin her life. drama alirezaaminatae farhadmesbah maryamzahirimehr'"
      ]
     },
     "execution_count": 30,
     "metadata": {},
     "output_type": "execute_result"
    }
   ],
   "source": [
    "df['tag'][5]"
   ]
  },
  {
   "cell_type": "code",
   "execution_count": 31,
   "id": "f816e5d7-c5c2-4949-853f-a36ffd6042a6",
   "metadata": {},
   "outputs": [],
   "source": [
    "from sklearn.feature_extraction.text import CountVectorizer\n",
    "cv=CountVectorizer(max_features=5000,stop_words='english')"
   ]
  },
  {
   "cell_type": "code",
   "execution_count": 32,
   "id": "4c68934a-fa20-454f-9f68-8c6dd253f48c",
   "metadata": {},
   "outputs": [],
   "source": [
    "vectors=cv.fit_transform(df['tag']).toarray()"
   ]
  },
  {
   "cell_type": "code",
   "execution_count": 33,
   "id": "7475df05-d64c-46ca-9307-11e122544018",
   "metadata": {},
   "outputs": [
    {
     "data": {
      "text/plain": [
       "(56249, 5000)"
      ]
     },
     "execution_count": 33,
     "metadata": {},
     "output_type": "execute_result"
    }
   ],
   "source": [
    "vectors.shape"
   ]
  },
  {
   "cell_type": "code",
   "execution_count": 34,
   "id": "c51af15d-a363-4b68-ac32-800b57744d74",
   "metadata": {},
   "outputs": [
    {
     "data": {
      "text/plain": [
       "56249"
      ]
     },
     "execution_count": 34,
     "metadata": {},
     "output_type": "execute_result"
    }
   ],
   "source": [
    "len(vectors)"
   ]
  },
  {
   "cell_type": "code",
   "execution_count": 35,
   "id": "046d62b9-2f0f-49f2-afd0-90df60c8aae4",
   "metadata": {},
   "outputs": [
    {
     "data": {
      "text/plain": [
       "array([[0, 0, 0, ..., 0, 0, 0],\n",
       "       [0, 0, 0, ..., 0, 0, 0],\n",
       "       [0, 0, 0, ..., 0, 0, 0],\n",
       "       ...,\n",
       "       [0, 0, 0, ..., 0, 0, 0],\n",
       "       [0, 0, 0, ..., 0, 0, 0],\n",
       "       [0, 0, 0, ..., 0, 0, 0]], dtype=int64)"
      ]
     },
     "execution_count": 35,
     "metadata": {},
     "output_type": "execute_result"
    }
   ],
   "source": [
    "vectors"
   ]
  },
  {
   "cell_type": "code",
   "execution_count": 36,
   "id": "4ffc9d62-4c7a-4bb0-a730-b112d41a4786",
   "metadata": {},
   "outputs": [
    {
     "ename": "MemoryError",
     "evalue": "Unable to allocate 23.6 GiB for an array with shape (56249, 56249) and data type float64",
     "output_type": "error",
     "traceback": [
      "\u001b[1;31m---------------------------------------------------------------------------\u001b[0m",
      "\u001b[1;31mMemoryError\u001b[0m                               Traceback (most recent call last)",
      "Cell \u001b[1;32mIn[36], line 4\u001b[0m\n\u001b[0;32m      1\u001b[0m \u001b[38;5;28;01mfrom\u001b[39;00m \u001b[38;5;21;01msklearn\u001b[39;00m\u001b[38;5;21;01m.\u001b[39;00m\u001b[38;5;21;01mmetrics\u001b[39;00m\u001b[38;5;21;01m.\u001b[39;00m\u001b[38;5;21;01mpairwise\u001b[39;00m \u001b[38;5;28;01mimport\u001b[39;00m cosine_similarity\n\u001b[0;32m      3\u001b[0m \u001b[38;5;66;03m# Initialize an empty array to store the results (pre-allocate memory)\u001b[39;00m\n\u001b[1;32m----> 4\u001b[0m similarity \u001b[38;5;241m=\u001b[39m np\u001b[38;5;241m.\u001b[39mzeros((\u001b[38;5;28mlen\u001b[39m(vectors), \u001b[38;5;28mlen\u001b[39m(vectors)))\n\u001b[0;32m      6\u001b[0m \u001b[38;5;66;03m# Set a chunk size based on memory constraints (you can experiment with different sizes)\u001b[39;00m\n\u001b[0;32m      7\u001b[0m chunk_size \u001b[38;5;241m=\u001b[39m \u001b[38;5;241m1000\u001b[39m\n",
      "\u001b[1;31mMemoryError\u001b[0m: Unable to allocate 23.6 GiB for an array with shape (56249, 56249) and data type float64"
     ]
    }
   ],
   "source": [
    "import numpy as np\n",
    "import pandas as pd\n",
    "from sklearn.metrics.pairwise import cosine_similarity\n",
    "\n",
    "# Set a chunk size based on memory constraints\n",
    "chunk_size = 1000\n",
    "num_vectors = len(vectors)\n",
    "\n",
    "# Create a DataFrame to hold the similarity results temporarily\n",
    "similarity_df = pd.DataFrame(index=range(num_vectors), columns=range(num_vectors))\n",
    "\n",
    "for start in range(0, num_vectors, chunk_size):\n",
    "    end = min(start + chunk_size, num_vectors)\n",
    "    \n",
    "    # Compute cosine similarity for the current chunk (rows [start:end] with all rows)\n",
    "    similarity_chunk = cosine_similarity(vectors[start:end], vectors)\n",
    "    \n",
    "    # Store the chunk in the DataFrame\n",
    "    similarity_df.iloc[start:end, :] = similarity_chunk\n",
    "\n",
    "# Save the DataFrame to a CSV file\n",
    "similarity_df.to_csv('similarity_matrix.csv', index=False)\n"
   ]
  },
  {
   "cell_type": "code",
   "execution_count": null,
   "id": "38eafbb5-e04c-47f1-822e-d6bf6ce30853",
   "metadata": {},
   "outputs": [],
   "source": []
  },
  {
   "cell_type": "code",
   "execution_count": null,
   "id": "a68cf7bd-fe44-46f2-9359-f669d7c70580",
   "metadata": {},
   "outputs": [],
   "source": []
  }
 ],
 "metadata": {
  "kernelspec": {
   "display_name": "Python 3 (ipykernel)",
   "language": "python",
   "name": "python3"
  },
  "language_info": {
   "codemirror_mode": {
    "name": "ipython",
    "version": 3
   },
   "file_extension": ".py",
   "mimetype": "text/x-python",
   "name": "python",
   "nbconvert_exporter": "python",
   "pygments_lexer": "ipython3",
   "version": "3.12.4"
  }
 },
 "nbformat": 4,
 "nbformat_minor": 5
}
